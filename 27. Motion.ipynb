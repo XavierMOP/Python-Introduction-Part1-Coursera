{
 "nbformat": 4,
 "nbformat_minor": 2,
 "metadata": {
  "language_info": {
   "name": "python",
   "codemirror_mode": {
    "name": "ipython",
    "version": 3
   },
   "version": "3.7.6-final"
  },
  "orig_nbformat": 2,
  "file_extension": ".py",
  "mimetype": "text/x-python",
  "name": "python",
  "npconvert_exporter": "python",
  "pygments_lexer": "ipython3",
  "version": 3,
  "kernelspec": {
   "name": "python3",
   "display_name": "Python 3"
  }
 },
 "cells": [
  {
   "cell_type": "code",
   "execution_count": 3,
   "metadata": {},
   "outputs": [
    {
     "output_type": "error",
     "ename": "SystemExit",
     "evalue": "0",
     "traceback": [
      "An exception has occurred, use %tb to see the full traceback.\n",
      "\u001b[1;31mSystemExit\u001b[0m\u001b[1;31m:\u001b[0m 0\n"
     ]
    }
   ],
   "source": [
    "# Ball motion with an explicit timer\n",
    "\"\"\"\n",
    "works in Code Skulptor\n",
    "\"\"\"\n",
    "\n",
    "import simpleguitk as simplegui\n",
    "\n",
    "# Initialize globals\n",
    "WIDTH = 600\n",
    "HEIGHT = 400\n",
    "BALL_RADIUS = 20\n",
    "\n",
    "init_pos = [WIDTH / 2, HEIGHT / 2]\n",
    "vel = [0, 3]  # pixels per tick\n",
    "time = 0\n",
    "\n",
    "# define event handlers\n",
    "def tick():\n",
    "    global time\n",
    "    time = time + 1\n",
    "\n",
    "def draw(canvas):\n",
    "    # create a list to hold ball position\n",
    "    ball_pos = [0, 0]\n",
    "\n",
    "    # calculate ball position\n",
    "    ball_pos[0] = init_pos[0] + time * vel[0]\n",
    "    ball_pos[1] = init_pos[1] + time * vel[1]\n",
    "    \n",
    "    # draw ball\n",
    "    canvas.draw_circle(ball_pos, BALL_RADIUS, 2, \"Red\", \"White\")\n",
    "\n",
    "# create frame\n",
    "frame = simplegui.create_frame(\"Motion\", WIDTH, HEIGHT)\n",
    "\n",
    "# register event handlers\n",
    "frame.set_draw_handler(draw)\n",
    "\n",
    "timer = simplegui.create_timer(100, tick)\n",
    "\n",
    "# start frame\n",
    "frame.start()\n",
    "timer.start()\n",
    ""
   ]
  },
  {
   "cell_type": "code",
   "execution_count": 4,
   "metadata": {},
   "outputs": [
    {
     "output_type": "error",
     "ename": "SystemExit",
     "evalue": "0",
     "traceback": [
      "An exception has occurred, use %tb to see the full traceback.\n",
      "\u001b[1;31mSystemExit\u001b[0m\u001b[1;31m:\u001b[0m 0\n"
     ]
    }
   ],
   "source": [
    "# Ball motion with an implicit timer\n",
    "\n",
    "# works here!!!\n",
    "\n",
    "import simpleguitk as simplegui\n",
    "\n",
    "# Initialize globals\n",
    "WIDTH = 600\n",
    "HEIGHT = 400\n",
    "BALL_RADIUS = 20\n",
    "\n",
    "ball_pos = [WIDTH / 2, HEIGHT / 2]\n",
    "vel = [0, 1] # pixels per update (1/60 seconds)\n",
    "\n",
    "# define event handlers\n",
    "def draw(canvas):\n",
    "    # Update ball position\n",
    "    ball_pos[0] += vel[0]\n",
    "    ball_pos[1] += vel[1]\n",
    "\n",
    "    # Draw ball\n",
    "    canvas.draw_circle(ball_pos, BALL_RADIUS, 2, \"Red\", \"White\")\n",
    "\n",
    "# create frame\n",
    "frame = simplegui.create_frame(\"Motion\", WIDTH, HEIGHT)\n",
    "\n",
    "# register event handlers\n",
    "frame.set_draw_handler(draw)\n",
    "\n",
    "# start frame\n",
    "frame.start()\n"
   ]
  }
 ]
}