{
 "nbformat": 4,
 "nbformat_minor": 2,
 "metadata": {
  "language_info": {
   "name": "python",
   "codemirror_mode": {
    "name": "ipython",
    "version": 3
   },
   "version": "3.7.6-final"
  },
  "orig_nbformat": 2,
  "file_extension": ".py",
  "mimetype": "text/x-python",
  "name": "python",
  "npconvert_exporter": "python",
  "pygments_lexer": "ipython3",
  "version": 3,
  "kernelspec": {
   "name": "python3",
   "display_name": "Python 3"
  }
 },
 "cells": [
  {
   "cell_type": "code",
   "execution_count": null,
   "metadata": {},
   "outputs": [],
   "source": [
    "# Counter ticks\n",
    "\n",
    "###################################################\n",
    "# Student should add code where relevant to the following.\n",
    "\n",
    "import simpleguitk as simplegui\n",
    "\n",
    "counter = 0\n",
    "\n",
    "# Timer handler\n",
    "def tick():\n",
    "    global counter\n",
    "    print(counter)\n",
    "    counter += 1\n",
    "    \n",
    "\n",
    "# create timer\n",
    "timer = simplegui.create_timer(1000, tick)\n",
    "\n",
    "timer.start()\n"
   ]
  },
  {
   "cell_type": "code",
   "execution_count": 11,
   "metadata": {},
   "outputs": [
    {
     "output_type": "stream",
     "name": "stdout",
     "text": "0\n1\n2\n"
    }
   ],
   "source": [
    "# Counter with buttons\n",
    "\n",
    "###################################################\n",
    "# Student should add code where relevant to the following.\n",
    "\n",
    "import simpleguitk as simplegui\n",
    "\n",
    "counter = 0\n",
    "\n",
    "# Timer handler\n",
    "def tick():\n",
    "    global counter\n",
    "    print(counter)\n",
    "    counter += 1\n",
    "    \n",
    "# Event handlers for buttons    \n",
    "def start():\n",
    "    timer.start()\n",
    "    \n",
    "def end():\n",
    "    timer.stop()\n",
    "    \n",
    "def reset():\n",
    "    global counter\n",
    "    counter = 0\n",
    "        \n",
    "# Create frame and timer\n",
    "frame = simplegui.create_frame(\"Counter with buttons\", 200, 200)\n",
    "timer = simplegui.create_timer(500, tick)\n",
    "frame.add_button(\"Start\", start, 100)\n",
    "frame.add_button(\"End\", end, 100)\n",
    "frame.add_button(\"Reset\", reset, 100)\n",
    "\n",
    "# Start timer\n",
    "timer.start()\n",
    ""
   ]
  },
  {
   "cell_type": "code",
   "execution_count": 7,
   "metadata": {},
   "outputs": [
    {
     "output_type": "error",
     "ename": "SystemExit",
     "evalue": "0",
     "traceback": [
      "An exception has occurred, use %tb to see the full traceback.\n",
      "\u001b[1;31mSystemExit\u001b[0m\u001b[1;31m:\u001b[0m 0\n"
     ]
    }
   ],
   "source": [
    "# Counter with buttons\n",
    "\n",
    "###################################################\n",
    "# Student should add code where relevant to the following.\n",
    "\n",
    "import simpleguitk as simplegui\n",
    "\n",
    "color = 'Red'\n",
    "\n",
    "\n",
    "# Timer handler\n",
    "def tick():\n",
    "    global color\n",
    "    if color == 'Red':\n",
    "        color = 'Blue'\n",
    "    else:\n",
    "        color = 'Red'\n",
    "    frame.set_canvas_background(color)\n",
    "    \n",
    "# Create frame and timer\n",
    "frame = simplegui.create_frame(\"Counter with buttons\", 200, 200)\n",
    "frame.set_canvas_background(color)\n",
    "timer = simplegui.create_timer(1000, tick)\n",
    "\n",
    "# Start timer\n",
    "frame.start()\n",
    "timer.start()\n",
    ""
   ]
  },
  {
   "cell_type": "code",
   "execution_count": 6,
   "metadata": {},
   "outputs": [
    {
     "output_type": "error",
     "ename": "SystemExit",
     "evalue": "0",
     "traceback": [
      "An exception has occurred, use %tb to see the full traceback.\n",
      "\u001b[1;31mSystemExit\u001b[0m\u001b[1;31m:\u001b[0m 0\n"
     ]
    }
   ],
   "source": [
    "# Expanding circle by timer\n",
    "\n",
    "###################################################\n",
    "# Student should add code where relevant to the following.\n",
    "\n",
    "import simpleguitk as simplegui\n",
    "\n",
    "WIDTH = 400\n",
    "HEIGHT = 400\n",
    "radius1 = 1\n",
    "radius2 = 280\n",
    "\n",
    "# Timer handler\n",
    "def tick():\n",
    "    global radius1, radius2\n",
    "    \n",
    "    if radius1 < 280:\n",
    "        radius1 += 1\n",
    "    else:\n",
    "        radius1 = 1\n",
    "        \n",
    "    if radius2 >1:\n",
    "        radius2 -= 1\n",
    "    else:\n",
    "        radius2 = 280\n",
    "    \n",
    "# Draw handler\n",
    "def draw(canvas):\n",
    "    canvas.draw_circle([WIDTH/2, HEIGHT/2], radius1, 2, 'red', 'black')\n",
    "    canvas.draw_circle([WIDTH/2, HEIGHT/2], radius2, 2, 'white', 'black')\n",
    "        \n",
    "# Create frame and timer\n",
    "timer = simplegui.create_timer(5, tick)\n",
    "frame = simplegui.create_frame(\"Circle!!!\", 400, 400)\n",
    "frame.set_draw_handler(draw)\n",
    "\n",
    "# Start timer\n",
    "timer.start()\n",
    "frame.start()\n",
    ""
   ]
  },
  {
   "cell_type": "code",
   "execution_count": 2,
   "metadata": {},
   "outputs": [
    {
     "output_type": "stream",
     "name": "stdout",
     "text": "Time between clicks is 0.192 seconds\nTime between clicks is 0.012 seconds\n"
    },
    {
     "output_type": "error",
     "ename": "SystemExit",
     "evalue": "0",
     "traceback": [
      "An exception has occurred, use %tb to see the full traceback.\n",
      "\u001b[1;31mSystemExit\u001b[0m\u001b[1;31m:\u001b[0m 0\n"
     ]
    }
   ],
   "source": [
    "# Reflex tester\n",
    "\n",
    "###################################################\n",
    "# Student should add code where relevant to the following.\n",
    "\n",
    "import simpleguitk as simplegui\n",
    "\n",
    "total_ticks = 0\n",
    "first_click = 'state1'\n",
    "\n",
    "\n",
    "# Timer handler\n",
    "def tick():\n",
    "    global total_ticks\n",
    "    total_ticks += 1\n",
    "    \n",
    "# Button handler\n",
    "def draw(canvas):\n",
    "    canvas.draw_text((str(total_ticks / 1000.0) + ' seconds'), (20, 110), 30, 'Red')\n",
    "\n",
    "def click():\n",
    "    global total_ticks, first_click\n",
    "    \n",
    "    if first_click == 'state1':\n",
    "        first_click = 'state2'\n",
    "        total_ticks = 0\n",
    "        timer.start()\n",
    "    else:\n",
    "        first_click = 'state1'\n",
    "        timer.stop()\n",
    "        print(\"Time between clicks is \" + str(total_ticks / 1000.0) + \" seconds\")\n",
    "        #total_ticks = 0\n",
    "        \n",
    "# Create frame and timer\n",
    "frame = simplegui.create_frame(\"Counter with buttons\", 400, 200)\n",
    "frame.add_button(\"Click me\", click, 200)\n",
    "timer = simplegui.create_timer(1, tick)\n",
    "frame.set_draw_handler(draw)\n",
    "\n",
    "# Start timer\n",
    "frame.start()\n",
    ""
   ]
  }
 ]
}