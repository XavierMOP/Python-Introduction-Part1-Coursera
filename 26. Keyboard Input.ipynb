{
 "nbformat": 4,
 "nbformat_minor": 2,
 "metadata": {
  "language_info": {
   "name": "python",
   "codemirror_mode": {
    "name": "ipython",
    "version": 3
   },
   "version": "3.7.6-final"
  },
  "orig_nbformat": 2,
  "file_extension": ".py",
  "mimetype": "text/x-python",
  "name": "python",
  "npconvert_exporter": "python",
  "pygments_lexer": "ipython3",
  "version": 3,
  "kernelspec": {
   "name": "python3",
   "display_name": "Python 3"
  }
 },
 "cells": [
  {
   "cell_type": "code",
   "execution_count": 2,
   "metadata": {},
   "outputs": [
    {
     "output_type": "error",
     "ename": "SystemExit",
     "evalue": "0",
     "traceback": [
      "An exception has occurred, use %tb to see the full traceback.\n",
      "\u001b[1;31mSystemExit\u001b[0m\u001b[1;31m:\u001b[0m 0\n"
     ]
    }
   ],
   "source": [
    "# Keyboard echo\n",
    "\n",
    "import simpleguitk as simplegui\n",
    "\n",
    "# initialize state\n",
    "current_key = ' '\n",
    "\n",
    "# event handlers\n",
    "def keydown(key):\n",
    "    global current_key\n",
    "    current_key = chr(key)\n",
    "    \n",
    "def keyup(key):\n",
    "    global current_key\n",
    "    current_key = ' '\n",
    "    \n",
    "def draw(c):\n",
    "    # NOTE draw_text now throws an error on some non-printable characters\n",
    "    # Since keydown event key codes do not all map directly to\n",
    "    # the printable character via ord(), this example now restricts\n",
    "    # keys to alphanumerics\n",
    "    \n",
    "    if current_key in \"ABCDEFGHIJKLMNOPQRSTUVWXYZ0123456789\":\n",
    "        c.draw_text(current_key, [10, 25], 20, \"Red\")    \n",
    "        \n",
    "# create frame             \n",
    "f = simplegui.create_frame(\"Echo\", 35, 35)\n",
    "\n",
    "# register event handlers\n",
    "f.set_keydown_handler(keydown)\n",
    "f.set_keyup_handler(keyup)\n",
    "f.set_draw_handler(draw)\n",
    "\n",
    "# start frame\n",
    "f.start()"
   ]
  },
  {
   "cell_type": "code",
   "execution_count": 6,
   "metadata": {},
   "outputs": [
    {
     "output_type": "error",
     "ename": "SystemExit",
     "evalue": "0",
     "traceback": [
      "An exception has occurred, use %tb to see the full traceback.\n",
      "\u001b[1;31mSystemExit\u001b[0m\u001b[1;31m:\u001b[0m 0\n"
     ]
    }
   ],
   "source": [
    "# control the position of a ball using the arrow keys\n",
    "\n",
    "import simpleguitk as simplegui\n",
    "\n",
    "# Initialize globals\n",
    "WIDTH = 600\n",
    "HEIGHT = 400\n",
    "BALL_RADIUS = 20\n",
    "\n",
    "ball_pos = [WIDTH / 2, HEIGHT / 2]\n",
    "\n",
    "# define event handlers\n",
    "def draw(canvas):\n",
    "    canvas.draw_circle(ball_pos, BALL_RADIUS, 2, \"Red\", \"Black\")\n",
    "\n",
    "def keydown(key):\n",
    "    vel = 4\n",
    "    if key == simplegui.KEY_MAP[\"left\"]:\n",
    "        ball_pos[0] -= vel\n",
    "    elif key == simplegui.KEY_MAP[\"right\"]:\n",
    "        ball_pos[0] += vel\n",
    "    elif key == simplegui.KEY_MAP[\"down\"]:\n",
    "        ball_pos[1] += vel\n",
    "    elif key == simplegui.KEY_MAP[\"up\"]:\n",
    "        ball_pos[1] -= vel        \n",
    "\n",
    "# create frame \n",
    "frame = simplegui.create_frame(\"Positional ball control\", WIDTH, HEIGHT)\n",
    "\n",
    "# register event handlers\n",
    "frame.set_draw_handler(draw)\n",
    "frame.set_keydown_handler(keydown)\n",
    "\n",
    "# start frame\n",
    "frame.start()\n"
   ]
  }
 ]
}