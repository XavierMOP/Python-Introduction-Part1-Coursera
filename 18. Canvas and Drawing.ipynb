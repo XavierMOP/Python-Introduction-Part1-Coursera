{
 "nbformat": 4,
 "nbformat_minor": 2,
 "metadata": {
  "language_info": {
   "name": "python",
   "codemirror_mode": {
    "name": "ipython",
    "version": 3
   },
   "version": "3.7.6-final"
  },
  "orig_nbformat": 2,
  "file_extension": ".py",
  "mimetype": "text/x-python",
  "name": "python",
  "npconvert_exporter": "python",
  "pygments_lexer": "ipython3",
  "version": 3,
  "kernelspec": {
   "name": "python3",
   "display_name": "Python 3"
  }
 },
 "cells": [
  {
   "cell_type": "markdown",
   "execution_count": null,
   "metadata": {},
   "outputs": [],
   "source": [
    "## Event-driven drawing\n",
    "\n",
    "- Computer moniter - 2D grid of pixels stored in frame buffer\n",
    "\n",
    "- Computer update the monitor based on the frame buffer at rate of around 60-72 times a second - refresh rate\n",
    "\n",
    "- Many applications will register a special function called a \"draw handler\"\n",
    "\n",
    "- In CodeSkulptor, register the draw handler using a simpleGUI command. CodeSkulptor calls the draw handler at around 60 times per second.\n",
    "\n",
    "- Draw handler updates the canvas using a collection of draw commands that include draw_text, draw_line, draw_circle\n",
    "\n",
    "- The origin point [0,0] is at the upper left of the canvas."
   ]
  },
  {
   "cell_type": "code",
   "execution_count": null,
   "metadata": {},
   "outputs": [],
   "source": [
    "# first example of drawing on the canvas\n",
    "\n",
    "import simpleguitk as simplegui\n",
    "\n",
    "# define draw handler\n",
    "def draw(canvas):\n",
    "    canvas.draw_text(\"Hello!\",[100, 100], 24, \"White\")\n",
    "    canvas.draw_circle([100, 100], 2, 2, \"Red\")\n",
    "\n",
    "# create frame\n",
    "frame = simplegui.create_frame(\"Text drawing\", 300, 200)\n",
    "\n",
    "# register draw handler    \n",
    "frame.set_draw_handler(draw)\n",
    "\n",
    "# start frame\n",
    "frame.start()"
   ]
  },
  {
   "cell_type": "code",
   "execution_count": 7,
   "metadata": {},
   "outputs": [
    {
     "ename": "SystemExit",
     "evalue": "0",
     "output_type": "error",
     "traceback": [
      "An exception has occurred, use %tb to see the full traceback.\n",
      "\u001b[1;31mSystemExit\u001b[0m\u001b[1;31m:\u001b[0m 0\n"
     ]
    }
   ],
   "source": [
    "import simpleguitk as simplegui\n",
    "\n",
    "\n",
    "# Handler to draw on canvas\n",
    "def draw(canvas):\n",
    "    canvas.draw_circle([100, 100], 50, 2, \"Red\", \"Pink\")\n",
    "    canvas.draw_circle([300, 300], 50, 2, \"Red\", \"Pink\")\n",
    "    canvas.draw_line([100, 100],[300, 300], 2, \"Black\")\n",
    "    canvas.draw_circle([100, 300], 50, 2, \"Green\", \"Lime\")\n",
    "    canvas.draw_circle([300, 100], 50, 2, \"Green\", \"Lime\")\n",
    "    canvas.draw_line([100, 300],[300, 100], 2, \"Black\")\n",
    "    canvas.draw_polygon([[150, 150], [250, 150], [250, 250], [150, 250]], 2, \n",
    "          \"Blue\", \"Aqua\")\n",
    "    canvas.draw_text(\"An example of drawing\", [40, 385], 24, \"Black\")\n",
    "\n",
    "    \n",
    "# Create a frame and assign callbacks to event handlers\n",
    "frame = simplegui.create_frame(\"Home\", 400, 400)\n",
    "frame.set_draw_handler(draw)\n",
    "frame.set_canvas_background(\"Yellow\")\n",
    "\n",
    "\n",
    "# Start the frame animation\n",
    "frame.start()\n"
   ]
  }
 ]
}