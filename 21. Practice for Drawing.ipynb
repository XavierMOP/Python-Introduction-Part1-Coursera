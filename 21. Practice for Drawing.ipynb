{
 "nbformat": 4,
 "nbformat_minor": 2,
 "metadata": {
  "language_info": {
   "name": "python",
   "codemirror_mode": {
    "name": "ipython",
    "version": 3
   },
   "version": "3.7.6-final"
  },
  "orig_nbformat": 2,
  "file_extension": ".py",
  "mimetype": "text/x-python",
  "name": "python",
  "npconvert_exporter": "python",
  "pygments_lexer": "ipython3",
  "version": 3,
  "kernelspec": {
   "name": "python3",
   "display_name": "Python 3"
  }
 },
 "cells": [
  {
   "cell_type": "markdown",
   "execution_count": null,
   "metadata": {},
   "outputs": [],
   "source": [
    "Modify the following program template to print **It works!!!** on the canvas."
   ]
  },
  {
   "cell_type": "code",
   "execution_count": null,
   "metadata": {},
   "outputs": [],
   "source": [
    "# Print to canvas\n",
    "\n",
    "###################################################\n",
    "# Student should add code where relevant to the following.\n",
    "\n",
    "import simpleguitk as simplegui\n",
    "\n",
    "# Draw handler\n",
    "def draw(canvas):\n",
    "    canvas.draw_text(\"It works!\",[120, 112], 25, \"white\")\n",
    "    \n",
    "\n",
    "# Create frame and assign callbacks to event handlers\n",
    "frame = simplegui.create_frame(\"It works\", 400, 200)\n",
    "\n",
    "# Register\n",
    "frame.set_draw_handler(draw)\n",
    "# frame.set_canvas_background('yellow')\n",
    "\n",
    "# start frame\n",
    "frame.start()"
   ]
  },
  {
   "cell_type": "markdown",
   "execution_count": null,
   "metadata": {},
   "outputs": [],
   "source": [
    "Given the following program template, add draw commands to the draw handler to draw **\"This is easy?\"** on the canvas. The precise size and location of the text on the canvas is not important."
   ]
  },
  {
   "cell_type": "code",
   "execution_count": null,
   "metadata": {},
   "outputs": [],
   "source": [
    "# Display \"This is easy?\"\n",
    "\n",
    "###################################################\n",
    "# Student should add code where relevant to the following.\n",
    "\n",
    "import simpleguitk as simplegui\n",
    "\n",
    "# Draw handler\n",
    "def draw(canvas):\n",
    "    canvas.draw_text('This is easy!!', [100, 100], 25, 'white')\n",
    "\n",
    "# Create frame and assign callbacks to event handlers\n",
    "frame = simplegui.create_frame(\"This is easy\", 400, 200)\n",
    "frame.set_draw_handler(draw)\n",
    "\n",
    "\n",
    "# Start the frame animatio\n",
    "frame.start()\n",
    "\n",
    ""
   ]
  },
  {
   "cell_type": "code",
   "execution_count": null,
   "metadata": {},
   "outputs": [],
   "source": [
    "# Display an X\n",
    "\n",
    "###################################################\n",
    "# Student should add code where relevant to the following.\n",
    "\n",
    "import simpleguitk as simplegui\n",
    "\n",
    "# Draw handler\n",
    "def draw(canvas):\n",
    "    canvas.draw_text('X', [0,60], 48, 'yellow')\n",
    "\n",
    "\n",
    "# Create frame and assign callbacks to event handlers\n",
    "frame = simplegui.create_frame(\"X\", 96, 96)\n",
    "frame.set_draw_handler(draw)\n",
    "\n",
    "# Start the frame animation\n",
    "frame.start()"
   ]
  },
  {
   "cell_type": "markdown",
   "execution_count": null,
   "metadata": {},
   "outputs": [],
   "source": [
    "Write a function **format_time** that takes an integer number of seconds in range(0,3600) and converts it into string that states the number of minutes and seconds. Remember to use the operations // and %."
   ]
  },
  {
   "cell_type": "code",
   "execution_count": null,
   "metadata": {},
   "outputs": [],
   "source": [
    "# Define a function that returns formatted minutes and seconds\n",
    "\n",
    "###################################################\n",
    "# Time formatting function\n",
    "# Student should enter function on the next lines.\n",
    "\n",
    "def format_time(number):\n",
    "    if str(type(number)) != \"<class 'int'>\" or (int(number) < 0):\n",
    "        return 'Error'\n",
    "    else:\n",
    "        minute = number // 60\n",
    "        second = number - minute * 60\n",
    "        if (minute == 0 or minute  == 1) and (second == 0 or second == 1):\n",
    "            return str(minute) + ' minute ' + 'and ' + str(second) + ' second'\n",
    "        elif (minute == 0 or minute  == 1) and second >1:\n",
    "            return str(minute) + ' minute ' + 'and ' + str(second) + ' seconds'\n",
    "        elif minute > 1 and (second == 0 or second == 1):\n",
    "            return str(minute) + ' minutes ' + 'and ' + str(second) + ' second'\n",
    "        else:\n",
    "            return str(minute) + ' minutes ' + 'and ' + str(second) + ' seconds'\n",
    "\n",
    "###################################################\n",
    "# Tests\n",
    "\n",
    "print(format_time(23))\n",
    "print(format_time(83))\n",
    "print(format_time(1237))\n",
    "print(format_time(0))\n",
    "print(format_time(1860))\n",
    "print(format_time('www'))\n",
    "print(format_time(36980))\n",
    "print(format_time(-1))\n",
    "\n",
    "###################################################\n",
    "# Output to console\n",
    "#0 minutes and 23 seconds\n",
    "#20 minutes and 37 seconds\n",
    "#0 minutes and 0 seconds\n",
    "#31 minutes and 0 seconds\n",
    ""
   ]
  },
  {
   "cell_type": "code",
   "execution_count": null,
   "metadata": {},
   "outputs": [],
   "source": [
    "m=67\n",
    "\n",
    "print(type(m))\n",
    "\n",
    "print(type(type(m)))\n",
    "\n",
    "print(type(type(type(m))))\n",
    "\n",
    "print(str(type(m)))\n",
    "\n",
    "print('ss')\n",
    "\n",
    "str(type(m)) == \"<class 'int'>\"\n",
    "# str(<class 'int'>) == str(type(m))"
   ]
  },
  {
   "cell_type": "markdown",
   "execution_count": null,
   "metadata": {},
   "outputs": [],
   "source": [
    "**Challenge** : Complete the program template below and add two buttons that control the radius of a white ball centered in the middle of the canvas. Clicking the “Increase radius” button should increase the radius of the ball. Clicking the “Decrease radius” button should decrease the radius of the ball, except that the ball radius should always be positive. "
   ]
  },
  {
   "cell_type": "markdown",
   "metadata": {},
   "source": [
    "## (Constants are capitalized in Python)"
   ],
   "execution_count": null,
   "outputs": []
  },
  {
   "cell_type": "code",
   "execution_count": null,
   "metadata": {},
   "outputs": [],
   "source": [
    "# Move a ball\n",
    "\n",
    "###################################################\n",
    "# Student should add code where relevant to the following.\n",
    "\n",
    "\n",
    "import simpleguitk as simplegui\n",
    "\n",
    "# Define globals - Constants are capitalized in Python\n",
    "HEIGHT = 700\n",
    "WIDTH = 700\n",
    "RADIUS_INCREMENT = 20\n",
    "ball_radius = 20\n",
    "\n",
    "# Draw handler\n",
    "def draw(canvas):\n",
    "    canvas.draw_circle([350, 350], ball_radius, 5, 'red', 'black')\n",
    "\n",
    "    \n",
    "# Event handlers for buttons\n",
    "def increase_radius():\n",
    "    global ball_radius\n",
    "    if ball_radius < 480:\n",
    "        ball_radius += RADIUS_INCREMENT\n",
    "\n",
    "def decrease_radius():\n",
    "    global ball_radius\n",
    "    if ball_radius > 0:\n",
    "        ball_radius -= RADIUS_INCREMENT\n",
    "\n",
    "\n",
    "\n",
    "# Create frame and assign callbacks to event handlers\n",
    "frame = simplegui.create_frame(\"Ball control\", WIDTH, HEIGHT)\n",
    "frame.set_draw_handler(draw)\n",
    "frame.add_button(\"Increase radius\", increase_radius)\n",
    "frame.add_button(\"Decrease radius\", decrease_radius)\n",
    "\n",
    "\n",
    "# Start the frame animation\n",
    "frame.start()\n",
    "\n",
    ""
   ]
  }
 ]
}