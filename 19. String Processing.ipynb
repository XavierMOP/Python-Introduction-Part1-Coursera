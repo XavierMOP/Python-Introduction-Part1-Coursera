{
 "nbformat": 4,
 "nbformat_minor": 2,
 "metadata": {
  "language_info": {
   "name": "python",
   "codemirror_mode": {
    "name": "ipython",
    "version": 3
   },
   "version": "3.7.6-final"
  },
  "orig_nbformat": 2,
  "file_extension": ".py",
  "mimetype": "text/x-python",
  "name": "python",
  "npconvert_exporter": "python",
  "pygments_lexer": "ipython3",
  "version": 3,
  "kernelspec": {
   "name": "python3",
   "display_name": "Python 3"
  }
 },
 "cells": [
  {
   "cell_type": "code",
   "execution_count": 6,
   "metadata": {},
   "outputs": [
    {
     "name": "stdout",
     "output_type": "stream",
     "text": "Rixner's funny Warren wears nice ties!\n t-shirts!\nWarren and Rixner are nuts!\nn\n \ny\n14\nRixner wears nice ties!\nWarren wears funny t-shirts!\n<class 'str'>\n75\n113\n"
    }
   ],
   "source": [
    "### String Processing\n",
    "\n",
    "# String literals\n",
    "s1 = \"Rixner's funny\"\n",
    "s2 = 'Warren wears nice ties!'\n",
    "s3 = \" t-shirts!\"\n",
    "print(s1, s2)\n",
    "print(s3)\n",
    "\n",
    "# Combining strings\n",
    "a = ' and '\n",
    "s4 = \"Warren\" + a + \"Rixner\" + ' are nuts!'\n",
    "print(s4)\n",
    "\n",
    "# Characters and slices\n",
    "print(s1[3])\n",
    "print(s1[8])\n",
    "# -1, -2 count from backwards\n",
    "print(s1[-1])\n",
    "# length\n",
    "print(len(s1))\n",
    "# slice!!!  [0:x], 0 to x but not include x\n",
    "print(s1[0:6] + s2[6:])\n",
    "print(s2[:13] + s1[9:] + s3)\n",
    "\n",
    "# Converting strings\n",
    "s5 = str(375)\n",
    "print(type(s5))\n",
    "print(s5[1:])\n",
    "i1 = int(s5[1:])\n",
    "print(i1 + 38)\n"
   ]
  },
  {
   "cell_type": "code",
   "execution_count": 9,
   "metadata": {},
   "outputs": [
    {
     "name": "stdout",
     "output_type": "stream",
     "text": "11 dollars and 23 cents\n11 dollars and 20 cents\n1 dollar and 12 cents\n12 dollars and 1 cent\n1 dollar and 1 cent\n1 cent\n1 dollar\nBroke!\n"
    }
   ],
   "source": [
    "# Handle single quantity\n",
    "def convert_units(val, name):\n",
    "    result = str(val) + \" \" + name\n",
    "    if val > 1:\n",
    "        result = result + \"s\"\n",
    "    return result\n",
    "        \n",
    "# convert xx.yy to xx dollars and yy cents\n",
    "def convert(val):\n",
    "    # Split into dollars and cents\n",
    "    dollars = int(val)\n",
    "    cents = int(round(100 * (val - dollars)))\n",
    "\n",
    "    # Convert to strings\n",
    "    dollars_string = convert_units(dollars, \"dollar\")\n",
    "    cents_string = convert_units(cents, \"cent\")\n",
    "\n",
    "    # return composite string\n",
    "    if dollars == 0 and cents == 0:\n",
    "        return \"Broke!\"\n",
    "    elif dollars == 0:\n",
    "        return cents_string\n",
    "    elif cents == 0:\n",
    "        return dollars_string\n",
    "    else:\n",
    "        return dollars_string + \" and \" + cents_string\n",
    "\n",
    "\n",
    "# Tests\n",
    "print(convert(11.23))\n",
    "print(convert(11.20))\n",
    "print(convert(1.12))\n",
    "print(convert(12.01))\n",
    "print(convert(1.01))\n",
    "print(convert(0.01))\n",
    "print(convert(1.00))\n",
    "print(convert(0))"
   ]
  }
 ]
}